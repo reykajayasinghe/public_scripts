{
 "cells": [
  {
   "cell_type": "code",
   "execution_count": 1,
   "metadata": {},
   "outputs": [],
   "source": [
    "#Date: 06.11.2018\n",
    "#Last Modified: 06.11.2018\n",
    "#reyka@wustl.edu\n",
    "\n",
    "#Prepare data for SciClone\n",
    "#https://github.com/genome/sciclone\n",
    "#read in vaf data from three related tumors\n",
    "#format is 5 column, tab delimited: \n",
    "#chr, pos, ref_reads, var_reads, vaf\n",
    "\n",
    "variant_file=\"/Volumes/Angie's Bac/Met Seq Data/Index35_OtB3992_Angela.Hirbe_900-1985a_human_hEx_AV5_30x_07222016.deduplicated.realigned.recalibrated.snpEff.snpSift.vcf\"\n",
    "#variant_file=\"/Volumes/Angie's Bac/Met Seq Data/Index36_OtB3993_Angela.Hirbe_900-1985a_human_hEx_AV5_30x_FFPE_07222016.deduplicated.realigned.recalibrated.snpEff.snpSift.vcf\"\n",
    "#variant_file=\"/Volumes/Angie's Bac/Met Seq Data/Index37_OtB3994_Angela.Hirbe_900-1985a_human_hEx_AV5_30x_FFPE_07222016.deduplicated.realigned.recalibrated.snpEff.snpSift.vcf\"\n",
    "#variant_file=\"/Volumes/Angie's Bac/Met Seq Data/Index38_OtB3995_Angela.Hirbe_900-1985a_human_hEx_AV5_30x_FFPE_07222016.deduplicated.realigned.recalibrated.snpEff.snpSift.vcf\"\n",
    "#Index39_OtB3996_Angela.Hirbe_900-1985a_human_hEx_AV5_30x_07222016.deduplicated.realigned.recalibrated.snpEff.snpSift.vcf\n",
    "#variant_file=\"/Volumes/Angie's Bac/Met Seq Data/Index40_OtB3997_Angela.Hirbe_900-1985a_human_hEx_AV5_30x_FFPE_07222016.deduplicated.realigned.recalibrated.snpEff.snpSift.vcf\"\n",
    "#variant_file=\"/Volumes/Angie's Bac/Met Seq Data/Index42_OtB3998_Angela.Hirbe_900-1985a_human_hEx_AV5_30x_FFPE_07222016.deduplicated.realigned.recalibrated.snpEff.snpSift.vcf\"\n",
    "#variant_file=\"/Volumes/Angie's Bac/Met Seq Data/Index43_OtB3999_Angela.Hirbe_900-1985a_human_hEx_AV5_30x_FFPE_07222016.deduplicated.realigned.recalibrated.snpEff.snpSift.vcf\"\n",
    "\n",
    "file=open(variant_file,\"r\")\n",
    "skippedindel=0\n",
    "skippedlowreadcount=0\n",
    "skippedlowvaf=0\n",
    "totalsites=0\n",
    "import sys\n",
    "sys.stdout = open('Index35.vaf','wt')\n",
    "\n",
    "for line in file:\n",
    "    line.strip()\n",
    "    skipvalue=0\n",
    "    if line.startswith('#'):\n",
    "        continue\n",
    "      # PROCESS LINE HERE\n",
    "    else:\n",
    "        #print(line)\n",
    "        chrom,position,ID,reference,variant,quality,ftype,info,formattype,sample=line.split(\"\\t\")\n",
    "        #print(sample)\n",
    "        #CHECK 1: is it an indel, if so filter out for now\n",
    "        refsize=len(reference)\n",
    "        varsize=len(variant)\n",
    "        if refsize == varsize:\n",
    "            try:\n",
    "                (GT,AD,DP,GQ,PL)=sample.split(\":\")\n",
    "                #print(\"GOOD:\",line)\n",
    "                (refcount,varcount)=AD.split(\",\")\n",
    "                vaf=(float(varcount)/(float(refcount)+float(varcount)))*100\n",
    "                #print(sample,float(vaf),refcount,varcount)\n",
    "                if (float(vaf) < 5.0):\n",
    "                    #skippedlowvaf+=1\n",
    "                    #print(\"SKIP\",str(vaf))\n",
    "                    skipvalue=1\n",
    "                    continue\n",
    "                else:\n",
    "                    totalsites+=1\n",
    "                    final=chrom+\"\\t\"+position+\"\\t\"+refcount+\"\\t\"+varcount+\"\\t\"+str(vaf)\n",
    "                    print(final)\n",
    "            except ValueError:\n",
    "                #When there are two alt alleles - these are mostly indels\n",
    "                #BAD: chr2\t233345249\trs1190432\tC\tA,T\n",
    "                #In this case there are more values for GT,AD,DP,GQ,PL\n",
    "                #1/2:1,13,5:19:99:515,135,137,347,0,368\n",
    "                #The second element refers to the first alt allele and the second refers to the second alt allele count\n",
    "                # 13 - A variant, 5 - T variant, 19 read depth\n",
    "                #print(\"BAD:\",line)\n",
    "                skippedindel+=1\n",
    "                continue\n",
    "        else:\n",
    "            skippedindel+=1\n",
    "    "
   ]
  },
  {
   "cell_type": "code",
   "execution_count": null,
   "metadata": {},
   "outputs": [],
   "source": [
    "totalsites"
   ]
  },
  {
   "cell_type": "code",
   "execution_count": 13,
   "metadata": {},
   "outputs": [
    {
     "data": {
      "text/plain": [
       "(570, 0, 0)"
      ]
     },
     "execution_count": 13,
     "metadata": {},
     "output_type": "execute_result"
    }
   ],
   "source": [
    "#SKIPPED\n",
    "skippedindel,skippedlowreadcount,skippedlowvaf"
   ]
  },
  {
   "cell_type": "code",
   "execution_count": null,
   "metadata": {},
   "outputs": [],
   "source": []
  }
 ],
 "metadata": {
  "kernelspec": {
   "display_name": "Python 3",
   "language": "python",
   "name": "python3"
  },
  "language_info": {
   "codemirror_mode": {
    "name": "ipython",
    "version": 3
   },
   "file_extension": ".py",
   "mimetype": "text/x-python",
   "name": "python",
   "nbconvert_exporter": "python",
   "pygments_lexer": "ipython3",
   "version": "3.6.5"
  }
 },
 "nbformat": 4,
 "nbformat_minor": 2
}
